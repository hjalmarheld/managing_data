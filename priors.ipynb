{
 "cells": [
  {
   "cell_type": "code",
   "execution_count": null,
   "id": "bdfed4d7-e2c6-45b9-ba9f-023095f8a149",
   "metadata": {},
   "outputs": [],
   "source": [
    "import pandas as pd\n",
    "import numpy as np"
   ]
  },
  {
   "cell_type": "code",
   "execution_count": null,
   "id": "e2a9ecbe-5cf0-459f-86d2-28a236e978bd",
   "metadata": {},
   "outputs": [],
   "source": [
    "preds = pd.read_csv('final_predictions.csv')\n",
    "preds.columns = [int(col.split('= ')[-1]) for col in preds.columns]\n",
    "priors = np.log(pd.read_csv('data/external/priors.csv', index_col=0)['employees'])\n",
    "priors.index = [int(i) for i in priors.index]\n",
    "all_values = {}\n",
    "for i in preds.index:\n",
    "    x = pd.Series(preds.loc[i])\n",
    "    x = np.log(x)\n",
    "    x = x + priors.loc[x.index]\n",
    "    x = ' '.join(str(i) for i in x.sort_values(ascending=False).head(10).index)\n",
    "    all_values[i] = x\n",
    "\n",
    "pd.Series(all_values).to_csv('combined bayesian camembert.csv')"
   ]
  },
  {
   "cell_type": "code",
   "execution_count": null,
   "id": "a22448eb-ef0b-465f-8e74-027b7e2233ff",
   "metadata": {},
   "outputs": [],
   "source": [
    "pd.Series(all_values)"
   ]
  },
  {
   "cell_type": "code",
   "execution_count": null,
   "id": "97fb0bf7-462c-48f6-9627-3dc64d7356e1",
   "metadata": {},
   "outputs": [],
   "source": []
  }
 ],
 "metadata": {
  "kernelspec": {
   "display_name": "Python 3 (ipykernel)",
   "language": "python",
   "name": "python3"
  },
  "language_info": {
   "codemirror_mode": {
    "name": "ipython",
    "version": 3
   },
   "file_extension": ".py",
   "mimetype": "text/x-python",
   "name": "python",
   "nbconvert_exporter": "python",
   "pygments_lexer": "ipython3",
   "version": "3.8.13"
  }
 },
 "nbformat": 4,
 "nbformat_minor": 5
}
