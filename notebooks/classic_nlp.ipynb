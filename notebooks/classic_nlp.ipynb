{
 "cells": [
  {
   "cell_type": "code",
   "execution_count": null,
   "metadata": {},
   "outputs": [],
   "source": [
    "import pandas as pd\n",
    "from sklearn.feature_extraction.text import TfidfVectorizer\n",
    "from sklearn.decomposition import PCA\n",
    "from nltk.corpus import stopwords\n",
    "from tqdm import tqdm\n",
    "import numpy as np"
   ]
  },
  {
   "cell_type": "code",
   "execution_count": null,
   "metadata": {},
   "outputs": [],
   "source": [
    "stopwords = stopwords.words('french')\n",
    "import Stemmer\n",
    "stemmer = Stemmer.Stemmer('french')"
   ]
  },
  {
   "cell_type": "code",
   "execution_count": null,
   "metadata": {},
   "outputs": [],
   "source": [
    "def stem(x):\n",
    "    x = x.lower()\n",
    "    x = x.replace(\"l'\",'').replace(\"d'\",'')\n",
    "    string = ' '.join(\n",
    "        stemmer.stemWords(\n",
    "            [x for x in x.split(' ') if x not in stopwords])\n",
    "        )\n",
    "    string = string.replace(',','')\n",
    "    return string\n",
    "\n",
    "tqdm.pandas()"
   ]
  },
  {
   "cell_type": "code",
   "execution_count": null,
   "metadata": {},
   "outputs": [],
   "source": [
    "train = pd.read_csv('data/raw/naf_activite.csv', sep='|', index_col=0)\n",
    "train.dropna(inplace=True)\n",
    "test = pd.read_csv('data/raw/test.csv', index_col=0)"
   ]
  },
  {
   "cell_type": "code",
   "execution_count": null,
   "metadata": {},
   "outputs": [],
   "source": [
    "train['ACTIVITE'] = train['ACTIVITE'].progress_apply(stem)\n",
    "test['text'] = test['text'].progress_apply(stem)"
   ]
  },
  {
   "cell_type": "code",
   "execution_count": null,
   "metadata": {},
   "outputs": [],
   "source": [
    "mapping = pd.read_csv('https://www.data.gouv.fr/fr/datasets/r/7bb2184b-88cb-4c6c-a408-5a0081816dcd', sep=',')\n",
    "\n",
    "# statistics above have no in-line sepators - remove from mapping\n",
    "mapping['id_5'] = mapping['id_5'].str.replace('.','')\n",
    "\n",
    "# create series to merge\n",
    "#naf5_naf2_naf1 = mapping.set_index('')[['id_2', 'id_1']]\n",
    "train = train.merge(\n",
    "    mapping[['id_2', 'id_5']],\n",
    "    left_on='NAF_CODE', right_on='id_5',\n",
    "    how='inner')\n",
    "\n",
    "train = train[['ACTIVITE','id_2']]"
   ]
  },
  {
   "cell_type": "code",
   "execution_count": null,
   "metadata": {},
   "outputs": [],
   "source": [
    "train = train.iloc[:250_000]\n",
    "\n",
    "vectorizer = TfidfVectorizer(max_df=.7, max_features=300)\n",
    "#pca = PCA(n_components=0.95)\n",
    "\n",
    "test_text = vectorizer.fit_transform(raw_documents=test['text']).toarray()\n",
    "train_text = vectorizer.transform(raw_documents=train['ACTIVITE']).toarray()"
   ]
  },
  {
   "cell_type": "code",
   "execution_count": null,
   "metadata": {},
   "outputs": [],
   "source": [
    "from sklearn.ensemble import ExtraTreesClassifier\n",
    "classifier = ExtraTreesClassifier(n_jobs=-1, verbose=10)"
   ]
  },
  {
   "cell_type": "code",
   "execution_count": null,
   "metadata": {},
   "outputs": [],
   "source": [
    "classifier.fit(train_text, train['id_2'])"
   ]
  },
  {
   "cell_type": "code",
   "execution_count": null,
   "metadata": {},
   "outputs": [],
   "source": [
    "preds  = pd.DataFrame(classifier.predict_proba(test_text), columns=classifier.classes_)"
   ]
  },
  {
   "cell_type": "code",
   "execution_count": null,
   "metadata": {},
   "outputs": [],
   "source": [
    "priors = pd.read_csv('data/priors.csv')[['naf2','employees']].set_index('naf2')\n",
    "priors = np.log(priors)\n",
    "priors = priors.loc[~priors.index.isin([84,85,86])]"
   ]
  },
  {
   "cell_type": "code",
   "execution_count": null,
   "metadata": {},
   "outputs": [],
   "source": [
    "multiplied_preds = {}\n",
    "for i in preds.index:\n",
    "    pred_series = pd.Series(np.log(preds.loc[i]))\n",
    "    #pred_series = pred_series.add(priors.T, fill_value=0).T\n",
    "    pred_str = ' '.join([str(i) for i in pred_series.sort_values(ascending=False).index[:10]])\n",
    "    multiplied_preds[i] = pred_str"
   ]
  },
  {
   "cell_type": "code",
   "execution_count": null,
   "metadata": {},
   "outputs": [],
   "source": [
    "multiplied_preds"
   ]
  },
  {
   "cell_type": "code",
   "execution_count": null,
   "metadata": {},
   "outputs": [],
   "source": [
    "pred_df = pd.DataFrame(pd.Series(multiplied_preds), columns=['Predicted'])"
   ]
  },
  {
   "cell_type": "code",
   "execution_count": null,
   "metadata": {},
   "outputs": [],
   "source": [
    "pred_df"
   ]
  },
  {
   "cell_type": "code",
   "execution_count": null,
   "metadata": {},
   "outputs": [],
   "source": [
    "pred_df.index = pred_df.index.rename('NewsId')"
   ]
  },
  {
   "cell_type": "code",
   "execution_count": null,
   "metadata": {},
   "outputs": [],
   "source": [
    "pred_df.to_csv('tfidf.csv')"
   ]
  },
  {
   "cell_type": "code",
   "execution_count": null,
   "metadata": {},
   "outputs": [],
   "source": [
    "priors"
   ]
  },
  {
   "cell_type": "code",
   "execution_count": null,
   "metadata": {},
   "outputs": [],
   "source": [
    "preds"
   ]
  },
  {
   "cell_type": "code",
   "execution_count": null,
   "metadata": {},
   "outputs": [],
   "source": []
  }
 ],
 "metadata": {
  "kernelspec": {
   "display_name": "Python 3.9.12 ('ds2')",
   "language": "python",
   "name": "python3"
  },
  "language_info": {
   "codemirror_mode": {
    "name": "ipython",
    "version": 3
   },
   "file_extension": ".py",
   "mimetype": "text/x-python",
   "name": "python",
   "nbconvert_exporter": "python",
   "pygments_lexer": "ipython3",
   "version": "3.9.12"
  },
  "vscode": {
   "interpreter": {
    "hash": "31d8a1ef34cbcebda31b01d96f0668cc5da4b9d1ec201e7411d63c9c214da37f"
   }
  }
 },
 "nbformat": 4,
 "nbformat_minor": 2
}
