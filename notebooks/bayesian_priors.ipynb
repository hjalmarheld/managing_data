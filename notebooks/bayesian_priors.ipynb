{
 "cells": [
  {
   "cell_type": "code",
   "execution_count": null,
   "metadata": {},
   "outputs": [],
   "source": [
    "import pandas as pd"
   ]
  },
  {
   "cell_type": "code",
   "execution_count": null,
   "metadata": {},
   "outputs": [],
   "source": [
    "# company data by sector from insee, excessive data removed from \n",
    "# original to reduce size\n",
    "# source :\n",
    "# https://www.insee.fr/fr/statistiques/6524225?sommaire=5347729#consulter-sommaire\n",
    "\n",
    "df = pd.read_csv('data/external/ree_def_2020.csv', sep=';')"
   ]
  },
  {
   "cell_type": "code",
   "execution_count": null,
   "metadata": {},
   "outputs": [],
   "source": [
    "# need mapping to convert from naf5 to naf2, \n",
    "# mapping provided sucks, download new one\n",
    "# source:\n",
    "# https://www.data.gouv.fr/fr/datasets/nomenclature-dactivites-francaise-naf/#resources\n",
    "mapping = pd.read_csv('https://www.data.gouv.fr/fr/datasets/r/7bb2184b-88cb-4c6c-a408-5a0081816dcd', sep=',')\n",
    "\n",
    "# statistics above have no in-line sepators - remove from mapping\n",
    "mapping['id_5'] = mapping['id_5'].str.replace('.','')\n",
    "\n",
    "# create series to merge\n",
    "#naf5_naf2_naf1 = mapping.set_index('')[['id_2', 'id_1']]\n",
    "df = df.merge(\n",
    "    mapping[['id_1', 'id_2', 'id_5']],\n",
    "    left_on='naf5', right_on='id_5',\n",
    "    how='outer')\n",
    "\n",
    "# check if decently merged\n",
    "print(df.isna().sum())\n",
    "\n",
    "# missing stats for :\n",
    "# naf5  label\n",
    "# 0520Z Extraction de lignite\n",
    "# 9700Z Activités des ménages en tant qu'employeurs de personnel domestique\n",
    "# 9810Z Activités indifférenciées des ménages en tant que producteurs de biens pour usage propre\n",
    "# 9820Z Activités indifférenciées des ménages en tant que producteurs de services pour usage propre\n",
    "# 9900Z Activités des organisations et organismes extraterritoriaux\n",
    "#\n",
    "# googling implies that less 10 000 in France go by under these naf:s,\n",
    "# essentially a rounding error\n",
    "\n",
    "df.dropna(inplace=True)"
   ]
  },
  {
   "cell_type": "code",
   "execution_count": null,
   "metadata": {},
   "outputs": [],
   "source": [
    "# Compute size of companies in terms of employees with\n",
    "# theory that:\n",
    "# more employees -> more likely to be in media\n",
    "\n",
    "# size variable is categorical as following :\n",
    "sizes = \"\"\"\n",
    "00 - 0 salarié\n",
    "01 - 1 à 2 salariés\n",
    "02 - 3 à 5 salariés\n",
    "03 - 6 à 9 salariés\n",
    "11 - 10 à 19 salariés\n",
    "12 - 20 à 49 salariés\n",
    "21 - 50 à 99 salariés\n",
    "22 - 100 à 199 salariés\n",
    "31 - 200 à 249 salariés\n",
    "32 - 250 à 499 salariés\n",
    "41 - 500 à 999 salariés\n",
    "42 - 1 000 à 1 999 salariés\n",
    "51 - 2 000 à 4 999 salariés\n",
    "52 - 5 000 à 9 999 salariés\n",
    "53 - 10 000 salariés et plus\n",
    "\"\"\"\n",
    "# will assume that companies lie in the\n",
    "# middle of these ranges and 20000 for code 53\n",
    "sizes = [int(i[:2]) for i in sizes.splitlines()[1:]]\n",
    "employees = [\n",
    "    0, 1.5, 4, 7.5, 14.5, 34.5,\n",
    "    74.5, 149.5, 224.5, 374.5, 749.5,\n",
    "    1499.5, 3499.5, 7499.5, 20000]\n",
    "sizes = pd.Series({int(i): j for i, j in zip(sizes, employees)}).rename('employees_p_company')\n",
    "\n",
    "df = df.merge(sizes, left_on='size', right_index=True)\n",
    "\n",
    "df['employees'] = df['count'] * df['employees_p_company']\n",
    "df['employees'].sum()\n",
    "\n",
    "# gives a total of 26.7 million employees, insee says that\n",
    "# there were 28.5 employed persons employed in France in 2020\n",
    "# -> good enough"
   ]
  },
  {
   "cell_type": "code",
   "execution_count": null,
   "metadata": {},
   "outputs": [],
   "source": [
    "# agregation of companies by sheer number (count), \n",
    "# number of companies with > 0 employees (count_active) and \n",
    "# by number of employees (size)\n",
    "\n",
    "count = df.groupby('id_2')['count'].sum()\n",
    "count_active = df.loc[df['size']!=0].groupby('id_2')['count'].sum().rename('active')\n",
    "size = df.groupby('id_2')['employees'].sum()\n",
    "\n",
    "# normalize and put into single df\n",
    "aggregated = pd.concat([s / s.sum() for s in [count, count_active, size]], axis=1)\n",
    "aggregated.index.rename('naf2', inplace=True)\n",
    "aggregated.to_csv('data/priors.csv')\n"
   ]
  },
  {
   "cell_type": "code",
   "execution_count": null,
   "metadata": {},
   "outputs": [],
   "source": [
    "aggregated.plot(figsize=(8,6))"
   ]
  }
 ],
 "metadata": {
  "kernelspec": {
   "display_name": "Python 3.9.12 ('ds2')",
   "language": "python",
   "name": "python3"
  },
  "language_info": {
   "codemirror_mode": {
    "name": "ipython",
    "version": 3
   },
   "file_extension": ".py",
   "mimetype": "text/x-python",
   "name": "python",
   "nbconvert_exporter": "python",
   "pygments_lexer": "ipython3",
   "version": "3.9.12"
  },
  "vscode": {
   "interpreter": {
    "hash": "31d8a1ef34cbcebda31b01d96f0668cc5da4b9d1ec201e7411d63c9c214da37f"
   }
  }
 },
 "nbformat": 4,
 "nbformat_minor": 2
}
